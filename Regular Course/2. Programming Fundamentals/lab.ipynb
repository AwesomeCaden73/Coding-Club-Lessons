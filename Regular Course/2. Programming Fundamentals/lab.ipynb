{
 "cells": [
  {
   "cell_type": "code",
   "execution_count": 1,
   "metadata": {},
   "outputs": [
    {
     "data": {
      "text/plain": [
       "int"
      ]
     },
     "execution_count": 1,
     "metadata": {},
     "output_type": "execute_result"
    }
   ],
   "source": [
    "number = 53\n",
    "type(number)"
   ]
  },
  {
   "cell_type": "code",
   "execution_count": 1,
   "metadata": {},
   "outputs": [
    {
     "name": "stdout",
     "output_type": "stream",
     "text": [
      "Julian\n"
     ]
    },
    {
     "data": {
      "text/plain": [
       "str"
      ]
     },
     "execution_count": 1,
     "metadata": {},
     "output_type": "execute_result"
    }
   ],
   "source": [
    "name = \"Julian\"\n",
    "print(name)\n",
    "type(name)"
   ]
  },
  {
   "cell_type": "markdown",
   "metadata": {},
   "source": []
  },
  {
   "cell_type": "code",
   "execution_count": 3,
   "metadata": {},
   "outputs": [
    {
     "data": {
      "text/plain": [
       "float"
      ]
     },
     "execution_count": 3,
     "metadata": {},
     "output_type": "execute_result"
    }
   ],
   "source": [
    "number = 5.3\n",
    "type(number)"
   ]
<<<<<<< HEAD
<<<<<<< Updated upstream
=======
=======
>>>>>>> f01ae8b23a56ee1d47bc05040c38c2f241977f9c
  },
  {
   "cell_type": "code",
   "execution_count": null,
   "metadata": {},
   "outputs": [],
   "source": [
    "print(\"Hello World\")"
   ]
<<<<<<< HEAD
  },
  {
   "cell_type": "code",
   "execution_count": 3,
   "metadata": {},
   "outputs": [
    {
     "name": "stdout",
     "output_type": "stream",
     "text": [
      "201.0619296\n"
     ]
    }
   ],
   "source": [
    "pi = 3.14159265\n",
    "radius = 8\n",
    "area = pi * radius * radius\n",
    "print(area)"
   ]
  },
  {
   "cell_type": "code",
   "execution_count": 8,
   "metadata": {},
   "outputs": [
    {
     "name": "stdout",
     "output_type": "stream",
     "text": [
      "What is the area?\n",
      "25.231325234617096\n"
     ]
    }
   ],
   "source": [
    "import math\n",
    "\n",
    "area = int(input(\"What is the area?\"))\n",
    "\n",
    "pi = 3.14159265\n",
    "\n",
    "radius = math.sqrt(   area / pi   )\n",
    "\n",
    "if radius > 8:\n",
    "    print(radius)"
   ]
  },
  {
   "cell_type": "code",
   "execution_count": 15,
   "metadata": {},
   "outputs": [
    {
     "name": "stdout",
     "output_type": "stream",
     "text": [
      "The area is 84\n",
      "The area is 84, which was found by 12 * 7.\n",
      "Julian and Jadon and Nathan are awesome\n"
     ]
    }
   ],
   "source": [
    "height = 12\n",
    "width = 7\n",
    "\n",
    "area = width * height\n",
    "\n",
    "print(\"The area is \" + str(area))\n",
    "print(f\"The area is {area}, which was found by {height} * {width}.\")\n",
    "print(\"Julian and Jadon and Nathan are awesome\")"
   ]
>>>>>>> Stashed changes
=======
>>>>>>> f01ae8b23a56ee1d47bc05040c38c2f241977f9c
  }
 ],
 "metadata": {
  "kernelspec": {
   "display_name": "Python 3",
   "language": "python",
   "name": "python3"
  },
  "language_info": {
   "codemirror_mode": {
    "name": "ipython",
    "version": 3
   },
   "file_extension": ".py",
   "mimetype": "text/x-python",
   "name": "python",
   "nbconvert_exporter": "python",
   "pygments_lexer": "ipython3",
   "version": "3.11.2"
  },
  "orig_nbformat": 4
 },
 "nbformat": 4,
 "nbformat_minor": 2
}
